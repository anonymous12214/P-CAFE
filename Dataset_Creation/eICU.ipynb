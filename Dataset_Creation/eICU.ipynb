{
 "cells": [
  {
   "cell_type": "markdown",
   "source": [
    "eICU Dataset"
   ],
   "metadata": {
    "collapsed": false
   }
  },
  {
   "cell_type": "markdown",
   "source": [
    "git clone to the repository:\n",
    "https://github.com/mostafaalishahi/eICU_Benchmark.git\n",
    "follow the code to extract the time series data for inhospital mortality in 48 hours\n",
    "save the time series data and run P-CAFE"
   ],
   "metadata": {
    "collapsed": false
   }
  }
 ],
 "metadata": {
  "kernelspec": {
   "display_name": "Python 3",
   "language": "python",
   "name": "python3"
  },
  "language_info": {
   "codemirror_mode": {
    "name": "ipython",
    "version": 2
   },
   "file_extension": ".py",
   "mimetype": "text/x-python",
   "name": "python",
   "nbconvert_exporter": "python",
   "pygments_lexer": "ipython2",
   "version": "2.7.6"
  }
 },
 "nbformat": 4,
 "nbformat_minor": 0
}
